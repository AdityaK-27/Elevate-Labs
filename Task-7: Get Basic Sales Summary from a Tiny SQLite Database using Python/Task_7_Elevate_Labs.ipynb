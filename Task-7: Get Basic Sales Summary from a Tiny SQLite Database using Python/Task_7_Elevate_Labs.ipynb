{
  "nbformat": 4,
  "nbformat_minor": 0,
  "metadata": {
    "colab": {
      "provenance": []
    },
    "kernelspec": {
      "name": "python3",
      "display_name": "Python 3"
    },
    "language_info": {
      "name": "python"
    }
  },
  "cells": [
    {
      "cell_type": "code",
      "execution_count": 1,
      "metadata": {
        "colab": {
          "base_uri": "https://localhost:8080/"
        },
        "id": "CI5Xn8qx5y_s",
        "outputId": "ce186ff5-36bd-4138-dbb2-fc9ee0f72085"
      },
      "outputs": [
        {
          "output_type": "stream",
          "name": "stdout",
          "text": [
            "✅ Step 1 complete: sales_data.db created with sample sales table.\n"
          ]
        }
      ],
      "source": [
        "import sqlite3\n",
        "\n",
        "# Step 1: Connect to (or create) the SQLite database\n",
        "conn = sqlite3.connect(\"sales_data.db\")  # This will create sales_data.db in Colab's environment\n",
        "cursor = conn.cursor()\n",
        "\n",
        "# Step 2: Create a sales table\n",
        "cursor.execute('''\n",
        "CREATE TABLE IF NOT EXISTS sales (\n",
        "    id INTEGER PRIMARY KEY AUTOINCREMENT,\n",
        "    product TEXT,\n",
        "    quantity INTEGER,\n",
        "    price REAL\n",
        ")\n",
        "''')\n",
        "\n",
        "# Step 3: Insert sample sales data\n",
        "sample_data = [\n",
        "    (\"Apple\", 10, 1.5),\n",
        "    (\"Banana\", 5, 0.8),\n",
        "    (\"Orange\", 8, 1.2),\n",
        "    (\"Apple\", 7, 1.5),\n",
        "    (\"Banana\", 6, 0.8),\n",
        "    (\"Orange\", 4, 1.2),\n",
        "    (\"Grapes\", 12, 2.0)\n",
        "]\n",
        "\n",
        "cursor.executemany(\"INSERT INTO sales (product, quantity, price) VALUES (?, ?, ?)\", sample_data)\n",
        "\n",
        "# Step 4: Commit and close\n",
        "conn.commit()\n",
        "conn.close()\n",
        "\n",
        "print(\"✅ Step 1 complete: sales_data.db created with sample sales table.\")\n"
      ]
    },
    {
      "cell_type": "code",
      "source": [
        "import sqlite3\n",
        "import pandas as pd\n",
        "\n",
        "# Reconnect to the SQLite database\n",
        "conn = sqlite3.connect(\"sales_data.db\")\n",
        "\n",
        "# SQL query to summarize sales\n",
        "query = \"\"\"\n",
        "SELECT\n",
        "    product,\n",
        "    SUM(quantity) AS total_quantity,\n",
        "    SUM(quantity * price) AS revenue\n",
        "FROM\n",
        "    sales\n",
        "GROUP BY\n",
        "    product\n",
        "\"\"\"\n",
        "\n",
        "# Load the results into a pandas DataFrame\n",
        "df = pd.read_sql_query(query, conn)\n",
        "\n",
        "# Close the connection\n",
        "conn.close()\n",
        "\n",
        "# Display the summary table\n",
        "print(\"✅ Sales Summary:\")\n",
        "print(df)\n"
      ],
      "metadata": {
        "colab": {
          "base_uri": "https://localhost:8080/"
        },
        "id": "BjEh11YL6Lsw",
        "outputId": "ae3c2809-f54b-4b84-cca4-5d401e5851a8"
      },
      "execution_count": 3,
      "outputs": [
        {
          "output_type": "stream",
          "name": "stdout",
          "text": [
            "✅ Sales Summary:\n",
            "  product  total_quantity  revenue\n",
            "0   Apple              17     25.5\n",
            "1  Banana              11      8.8\n",
            "2  Grapes              12     24.0\n",
            "3  Orange              12     14.4\n"
          ]
        }
      ]
    },
    {
      "cell_type": "code",
      "source": [
        "import matplotlib.pyplot as plt\n",
        "\n",
        "# Plot bar chart\n",
        "df.plot(kind='bar', x='product', y='revenue', legend=False, color='skyblue')\n",
        "\n",
        "# Add chart labels and title\n",
        "plt.title(\"Total Revenue per Product\")\n",
        "plt.xlabel(\"Product\")\n",
        "plt.ylabel(\"Revenue ($)\")\n",
        "plt.xticks(rotation=45)\n",
        "plt.tight_layout()\n",
        "\n",
        "# Show the chart\n",
        "plt.show()\n"
      ],
      "metadata": {
        "colab": {
          "base_uri": "https://localhost:8080/",
          "height": 487
        },
        "id": "qpCrO_Da6USD",
        "outputId": "e74a9489-fcd8-415c-8340-23ee128c6ab2"
      },
      "execution_count": 4,
      "outputs": [
        {
          "output_type": "display_data",
          "data": {
            "text/plain": [
              "<Figure size 640x480 with 1 Axes>"
            ],
            "image/png": "[encoded data removed]"
          },
          "metadata": {}
        }
      ]
    }
  ]
}